{
 "cells": [
  {
   "cell_type": "markdown",
   "metadata": {},
   "source": [
    "Please, fill the code cells to complete the project.\n",
    "\n",
    "In our assessment of your application, we will consider your ability to code but also how you communicate your results. \n",
    "\n",
    "Clean python code doesn't need to be extensively documented, however we encourage the use of _Markdown_ cells to guide us through your reasoning.\n",
    "\n",
    "## About the data\n",
    "You will find some `csv` files on the `data` directory. Each file contains the acceleration measured for each skating stride during a hockey game.\n",
    "\n",
    "Here is a sample of a data file:\n",
    "\n",
    "<table><tr><th># OpenField Export : 19/09/2017 4:52:54 PM</th><th></th><th></th><th></th><th></th></tr><tr><td># Reference time : 04/01/2017 4:02:00 PM UTC</td><td></td><td></td><td></td><td></td></tr><tr><td># CentisecTime : 148354572000</td><td></td><td></td><td></td><td></td></tr><tr><td># DeviceId : 896</td><td></td><td></td><td></td><td></td></tr><tr><td># Speed Units : Meters Per Second</td><td></td><td></td><td></td><td></td></tr><tr><td># Distance Units : Meters</td><td></td><td></td><td></td><td></td></tr><tr><td>Period</td><td>Ticks</td><td>Timestamp</td><td>Hockey Stride Direction</td><td>Hockey Stride Accel</td></tr><tr><td>1 ST</td><td>0</td><td>00:00:00.000</td><td>0</td><td>0</td></tr><tr><td>1 ST</td><td>1</td><td>00:00:00.010</td><td>0</td><td>0</td></tr><tr><td>1 ST</td><td>2</td><td>00:00:00.020</td><td>0</td><td>0</td></tr></table>\n",
    "\n",
    "Where:\n",
    "- `Period`: the label associated with the current period\n",
    "- `Ticks`: the frame of the current row\n",
    "- `Timestamp`: the timestamp of the current row\n",
    "- `Hockey Stride Direction`: whether it is a right or left skating stride ($\\text{left} = 4$ & $\\text{right} = 10$)\n",
    "- `Hockey Stride Accel`: 1-D acceleration of the current skating stride"
   ]
  },
  {
   "cell_type": "markdown",
   "metadata": {},
   "source": [
    "## 1. Get the data\n",
    "Write a reusable function to read each file. As you may have noticed, there are many zeros in each file. We recommend that you discard it for further analysis."
   ]
  },
  {
   "cell_type": "code",
   "execution_count": 1,
   "metadata": {},
   "outputs": [],
   "source": [
    "# write your code here"
   ]
  },
  {
   "cell_type": "markdown",
   "metadata": {},
   "source": [
    "## 2. Build some features\n",
    "Given the data you previously loaded, implement a function to determine the different shifts of each player (time on-ice).\n",
    "\n",
    "_Hint: you can consider a shift when more than thirty seconds separate two accelerations._\n",
    "\n",
    "Then, build three informative features. We recommend to get started with metrics related to (1) the volume, (2) the intensity and (3) the left-right asymmetry associated with each shift."
   ]
  },
  {
   "cell_type": "code",
   "execution_count": 2,
   "metadata": {},
   "outputs": [],
   "source": [
    "# write your code here"
   ]
  },
  {
   "cell_type": "markdown",
   "metadata": {},
   "source": [
    "## 3. Explore the data\n",
    "From the three variables previously computed, create the following figures:\n",
    "\n",
    "1. show the distribution of each variable\n",
    "2. compare the mean and standard deviation for each participant\n",
    "3. compare the first, second and third periods\n",
    "4. show the correlation matrix between each variable\n",
    "5. show a regression model fitted between your volume and intensity variables"
   ]
  },
  {
   "cell_type": "code",
   "execution_count": 3,
   "metadata": {},
   "outputs": [],
   "source": [
    "# write your code here"
   ]
  },
  {
   "cell_type": "markdown",
   "metadata": {},
   "source": [
    "## 4. Statistical inferences\n",
    "\n",
    "Test if there is a significant difference between the periods on your intensity variable."
   ]
  },
  {
   "cell_type": "code",
   "execution_count": 4,
   "metadata": {},
   "outputs": [],
   "source": [
    "# write your code here"
   ]
  },
  {
   "cell_type": "markdown",
   "metadata": {},
   "source": [
    "## 5. Predictive analysis\n",
    "\n",
    "Using your three variables (volume, intensity and asymmetry) and a simple model, predict the duration of the shifts.\n",
    "You can aim for a relative error of about 20% on your test set."
   ]
  },
  {
   "cell_type": "code",
   "execution_count": 5,
   "metadata": {},
   "outputs": [],
   "source": [
    "# write your code here"
   ]
  }
 ],
 "metadata": {
  "kernelspec": {
   "display_name": "Python [conda env:rocket]",
   "language": "python",
   "name": "conda-env-rocket-py"
  },
  "language_info": {
   "codemirror_mode": {
    "name": "ipython",
    "version": 3
   },
   "file_extension": ".py",
   "mimetype": "text/x-python",
   "name": "python",
   "nbconvert_exporter": "python",
   "pygments_lexer": "ipython3",
   "version": "3.6.8"
  }
 },
 "nbformat": 4,
 "nbformat_minor": 2
}
