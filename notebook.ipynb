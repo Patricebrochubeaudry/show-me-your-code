{
 "cells": [
  {
   "cell_type": "markdown",
   "metadata": {},
   "source": [
    "You must fill in the code cells to complete the project.\n",
    "\n",
    "In our assessment of your application, we will consider your ability to code but also to communicate your results. While clean and concise python don't need to be commented, we encourage you to explain your approach using _Mardown_ cells.\n",
    "\n",
    "## About the data\n",
    "You will find some `csv` files on the `data` directory. Each file contains the accelerations measured on a hockey player during a game.\n",
    "\n",
    "Here is the header presents in each file:\n",
    "\n",
    "<table><tr><th># OpenField Export : 19/09/2017 4:52:54 PM</th><th></th><th></th><th></th><th></th></tr><tr><td># Reference time : 04/01/2017 4:02:00 PM UTC</td><td></td><td></td><td></td><td></td></tr><tr><td># CentisecTime : 148354572000</td><td></td><td></td><td></td><td></td></tr><tr><td># DeviceId : 896</td><td></td><td></td><td></td><td></td></tr><tr><td># Speed Units : Meters Per Second</td><td></td><td></td><td></td><td></td></tr><tr><td># Distance Units : Meters</td><td></td><td></td><td></td><td></td></tr><tr><td>Period</td><td>Ticks</td><td>Timestamp</td><td>Hockey Stride Direction</td><td>Hockey Stride Accel</td></tr><tr><td>1 ST</td><td>0</td><td>00:00:00.000</td><td>0</td><td>0</td></tr><tr><td>1 ST</td><td>1</td><td>00:00:00.010</td><td>0</td><td>0</td></tr><tr><td>1 ST</td><td>2</td><td>00:00:00.020</td><td>0</td><td>0</td></tr></table>\n",
    "\n",
    "Where:\n",
    "- `Period`: the label associated with the current period\n",
    "- `Ticks`: the frame of the current row\n",
    "- `Timestamp`: the timestamp of the current row\n",
    "- `Hockey Stride Direction`: whether it is a right or left hockey stride ($\\text{left} = 4$ & $\\text{right} = 10$)\n",
    "- `Hockey Stride Accel`: 1-D acceleration of the current hockey stride"
   ]
  },
  {
   "cell_type": "markdown",
   "metadata": {},
   "source": [
    "## 1. Get the data\n",
    "Write a reusable function to read each file. As you may have noticed, there are many zeros in each file. We recommend that you discard it for further analysis."
   ]
  },
  {
   "cell_type": "code",
   "execution_count": 3,
   "metadata": {},
   "outputs": [],
   "source": [
    "# write your code here"
   ]
  },
  {
   "cell_type": "markdown",
   "metadata": {},
   "source": [
    "## 2. Build some features\n",
    "Given the data you previously loaded, implement a function to determine the different shifts of each player.\n",
    "\n",
    "Then, build three informative features. We recommend to get started with metrics related to (1) the volume, (2) the intensity and (3) the left-right asymmetry associated with each shift."
   ]
  },
  {
   "cell_type": "code",
   "execution_count": null,
   "metadata": {},
   "outputs": [],
   "source": [
    "# write your code here"
   ]
  },
  {
   "cell_type": "markdown",
   "metadata": {},
   "source": [
    "## 3. Explore the data\n",
    "From the three variables previously calculated, make the following figures:\n",
    "\n",
    "1. A figure that shows the distribution of each variable\n",
    "2. A figure that compares the mean and standard deviation for each participant\n",
    "3. A figure that compares the first, second and third periods\n",
    "4. A figure that shows the correlation matrix between each variable\n",
    "5. A figure that shows a regression model fitted between your volume and intensity variables"
   ]
  },
  {
   "cell_type": "code",
   "execution_count": null,
   "metadata": {},
   "outputs": [],
   "source": [
    "# write your code here"
   ]
  },
  {
   "cell_type": "markdown",
   "metadata": {},
   "source": [
    "## 4. Statistical inferences\n",
    "\n",
    "Test if there is a significant difference between the periods on your intensity variable."
   ]
  },
  {
   "cell_type": "code",
   "execution_count": 13,
   "metadata": {},
   "outputs": [
    {
     "data": {
      "text/html": [
       "<div>\n",
       "<style scoped>\n",
       "    .dataframe tbody tr th:only-of-type {\n",
       "        vertical-align: middle;\n",
       "    }\n",
       "\n",
       "    .dataframe tbody tr th {\n",
       "        vertical-align: top;\n",
       "    }\n",
       "\n",
       "    .dataframe thead th {\n",
       "        text-align: right;\n",
       "    }\n",
       "</style>\n",
       "<table border=\"1\" class=\"dataframe\">\n",
       "  <thead>\n",
       "    <tr style=\"text-align: right;\">\n",
       "      <th></th>\n",
       "      <th>df</th>\n",
       "      <th>sum_sq</th>\n",
       "      <th>mean_sq</th>\n",
       "      <th>F</th>\n",
       "      <th>PR(&gt;F)</th>\n",
       "    </tr>\n",
       "  </thead>\n",
       "  <tbody>\n",
       "    <tr>\n",
       "      <th>C(period)</th>\n",
       "      <td>2.0</td>\n",
       "      <td>5501.288855</td>\n",
       "      <td>2750.644427</td>\n",
       "      <td>1.069837</td>\n",
       "      <td>0.347483</td>\n",
       "    </tr>\n",
       "    <tr>\n",
       "      <th>Residual</th>\n",
       "      <td>88.0</td>\n",
       "      <td>226255.587632</td>\n",
       "      <td>2571.086223</td>\n",
       "      <td>NaN</td>\n",
       "      <td>NaN</td>\n",
       "    </tr>\n",
       "  </tbody>\n",
       "</table>\n",
       "</div>"
      ],
      "text/plain": [
       "             df         sum_sq      mean_sq         F    PR(>F)\n",
       "C(period)   2.0    5501.288855  2750.644427  1.069837  0.347483\n",
       "Residual   88.0  226255.587632  2571.086223       NaN       NaN"
      ]
     },
     "execution_count": 13,
     "metadata": {},
     "output_type": "execute_result"
    }
   ],
   "source": [
    "# write your code here"
   ]
  },
  {
   "cell_type": "markdown",
   "metadata": {},
   "source": [
    "## 5. Predictive analysis\n",
    "\n",
    "Using your three variables (volume, intensity and asymmetry) and a simple model, try to predict the duration of shifts.\n",
    "You can aim for about 20% error on your validation set."
   ]
  },
  {
   "cell_type": "code",
   "execution_count": 14,
   "metadata": {},
   "outputs": [],
   "source": [
    "# write your code here"
   ]
  }
 ],
 "metadata": {
  "kernelspec": {
   "display_name": "Python [conda env:rocket]",
   "language": "python",
   "name": "conda-env-rocket-py"
  },
  "language_info": {
   "codemirror_mode": {
    "name": "ipython",
    "version": 3
   },
   "file_extension": ".py",
   "mimetype": "text/x-python",
   "name": "python",
   "nbconvert_exporter": "python",
   "pygments_lexer": "ipython3",
   "version": "3.6.7"
  }
 },
 "nbformat": 4,
 "nbformat_minor": 2
}
